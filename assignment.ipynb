import matplotlib.pyplot as plt
import numpy as np

months = ["07/2019", "08/2019", "09/2019", "10/2019", "11/2019"]
searches = [50, 53, 59, 56, 62]
direct = [39, 47, 42, 51, 51]
social_media = [70, 80, 90, 87, 92]
x = np.arange(len(months))  # positions for groups
width = 0.25

# Plotting
fig, ax = plt.subplots(figsize=(8,6))
ax.bar(x - width, searches, width, label='Searches', color='skyblue')
ax.bar(x, direct, width, label='Direct', color='lightcoral')
ax.bar(x + width, social_media, width, label='Social Media', color='gold')
ax.set_title('Visitors by web traffic sources')
ax.set_xlabel('months')
ax.set_ylabel('visitors in thousands')
ax.set_xticks(x)
ax.set_xticklabels(months)
ax.legend()


plt.tight_layout()
plt.show()
